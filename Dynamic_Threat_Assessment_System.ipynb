{
  "nbformat": 4,
  "nbformat_minor": 0,
  "metadata": {
    "colab": {
      "provenance": [],
      "gpuType": "T4",
      "authorship_tag": "ABX9TyMNpY3kaQuZ0u8GSFpR/fsO",
      "include_colab_link": true
    },
    "kernelspec": {
      "name": "python3",
      "display_name": "Python 3"
    },
    "language_info": {
      "name": "python"
    },
    "accelerator": "GPU"
  },
  "cells": [
    {
      "cell_type": "markdown",
      "metadata": {
        "id": "view-in-github",
        "colab_type": "text"
      },
      "source": [
        "<a href=\"https://colab.research.google.com/github/imcalledaditi/Dynamic-Threat-Assessment-System/blob/main/Dynamic_Threat_Assessment_System.ipynb\" target=\"_parent\"><img src=\"https://colab.research.google.com/assets/colab-badge.svg\" alt=\"Open In Colab\"/></a>"
      ]
    },
    {
      "cell_type": "code",
      "execution_count": 1,
      "metadata": {
        "colab": {
          "base_uri": "https://localhost:8080/"
        },
        "id": "pDE1Llr1te_L",
        "outputId": "6b3f101e-1a09-4062-cdf7-09e0f52e0972"
      },
      "outputs": [
        {
          "output_type": "stream",
          "name": "stdout",
          "text": [
            "Collecting newsapi-python\n",
            "  Downloading newsapi_python-0.2.7-py2.py3-none-any.whl.metadata (1.2 kB)\n",
            "Requirement already satisfied: requests<3.0.0 in /usr/local/lib/python3.11/dist-packages (from newsapi-python) (2.32.3)\n",
            "Requirement already satisfied: charset-normalizer<4,>=2 in /usr/local/lib/python3.11/dist-packages (from requests<3.0.0->newsapi-python) (3.4.1)\n",
            "Requirement already satisfied: idna<4,>=2.5 in /usr/local/lib/python3.11/dist-packages (from requests<3.0.0->newsapi-python) (3.10)\n",
            "Requirement already satisfied: urllib3<3,>=1.21.1 in /usr/local/lib/python3.11/dist-packages (from requests<3.0.0->newsapi-python) (2.3.0)\n",
            "Requirement already satisfied: certifi>=2017.4.17 in /usr/local/lib/python3.11/dist-packages (from requests<3.0.0->newsapi-python) (2024.12.14)\n",
            "Downloading newsapi_python-0.2.7-py2.py3-none-any.whl (7.9 kB)\n",
            "Installing collected packages: newsapi-python\n",
            "Successfully installed newsapi-python-0.2.7\n"
          ]
        }
      ],
      "source": [
        "!pip install newsapi-python"
      ]
    },
    {
      "cell_type": "code",
      "source": [
        "# Import NewsApiClient\n",
        "from newsapi import NewsApiClient\n",
        "\n",
        "# Initialize NewsAPI client with your API key\n",
        "newsapi = NewsApiClient(api_key=\"72e3f1667346402d83d2a5eef280e38a\")  # Replace with your valid API key\n",
        "\n",
        "# Function to fetch news articles\n",
        "def fetch_news_data(query, language=\"en\", page_size=10):\n",
        "    \"\"\"\n",
        "    Fetches news articles based on the given query using NewsAPI.\n",
        "\n",
        "    Args:\n",
        "        query (str): Search query for articles.\n",
        "        language (str): Language of the articles (default is 'en').\n",
        "        page_size (int): Number of articles to fetch (default is 10).\n",
        "\n",
        "    Returns:\n",
        "        list: A list of dictionaries containing news article details.\n",
        "    \"\"\"\n",
        "    try:\n",
        "        # Fetch articles from NewsAPI\n",
        "        articles = newsapi.get_everything(q=query, language=language, page_size=page_size)\n",
        "        # Process and return the articles\n",
        "        return [\n",
        "            {\n",
        "                \"title\": article[\"title\"],\n",
        "                \"description\": article[\"description\"],\n",
        "                \"url\": article[\"url\"],\n",
        "                \"source\": article[\"source\"][\"name\"]\n",
        "            }\n",
        "            for article in articles[\"articles\"]\n",
        "        ]\n",
        "    except Exception as e:\n",
        "        print(f\"Error fetching NewsAPI data: {e}\")\n",
        "        return []\n",
        "\n",
        "# Example query for news articles\n",
        "query = \"cybersecurity OR threats\"\n",
        "news_data = fetch_news_data(query)\n",
        "\n",
        "# Display the results\n",
        "print(f\"Collected {len(news_data)} news articles:\")\n",
        "for i, article in enumerate(news_data, 1):\n",
        "    print(f\"\\nArticle {i}:\")\n",
        "    print(f\"Title: {article['title']}\")\n",
        "    print(f\"Description: {article['description']}\")\n",
        "    print(f\"Source: {article['source']}\")\n",
        "    print(f\"URL: {article['url']}\")\n"
      ],
      "metadata": {
        "colab": {
          "base_uri": "https://localhost:8080/"
        },
        "id": "jG4P8A2T0HF-",
        "outputId": "009b3318-3930-4541-9168-4055e0878cd2"
      },
      "execution_count": 11,
      "outputs": [
        {
          "output_type": "stream",
          "name": "stdout",
          "text": [
            "Collected 6 news articles:\n",
            "\n",
            "Article 1:\n",
            "Title: US Cyber Trust Mark launches as the Energy Star of smart home security\n",
            "Description: The US launched a new Cyber Trust Mark label for smart home devices to assure consumers that internet-connected products meet cybersecurity standards.\n",
            "Source: The Verge\n",
            "URL: https://www.theverge.com/2025/1/7/24338168/us-cyber-trust-mark-smart-home-security\n",
            "\n",
            "Article 2:\n",
            "Title: The FCC’s Jessica Rosenworcel Isn’t Leaving Without a Fight\n",
            "Description: As the US faces “the worst telecommunications hack in our nation’s history,” by China’s Salt Typhoon hackers, the outgoing FCC chair is determined to bolster network security if it’s the last thing she does.\n",
            "Source: Wired\n",
            "URL: https://www.wired.com/story/the-fccs-jessica-rosenworcel-isnt-leaving-without-a-fight/\n",
            "\n",
            "Article 3:\n",
            "Title: A New Jam-Packed Biden Executive Order Tackles Cybersecurity, AI, and More\n",
            "Description: US president Joe Biden just issued a 40-page executive order that aims to bolster federal cybersecurity protections, directs government use of AI—and takes a swipe at Microsoft’s dominance.\n",
            "Source: Wired\n",
            "URL: https://www.wired.com/story/biden-executive-order-cybersecurity-ai-and-more/\n",
            "\n",
            "Article 4:\n",
            "Title: T-Mobile is once again being sued over its 2021 data breach\n",
            "Description: Washington state is suing T-Mobile for allegedly failing to address vulnerabilities that enabled a hacker to expose the personal data of 79 million people nationwide.\n",
            "Source: The Verge\n",
            "URL: https://www.theverge.com/2025/1/8/24338947/t-mobile-2021-data-breach-washington-ag-lawsuit\n",
            "\n",
            "Article 5:\n",
            "Title: Ros Atkins on...Trump's threats to Greenland\n",
            "Description: The BBC's Analysis Editor Ros Atkins takes a look at why President-elect Donald Trump is talking about annexing Greenland.\n",
            "Source: BBC News\n",
            "URL: https://www.bbc.com/news/videos/cz0r01yj8j2o\n",
            "\n",
            "Article 6:\n",
            "Title: DUTCH REPORTER BOMB THREATS\n",
            "Description: Reporters covering a Chinese dissident in Europe were targeted with bomb threats. An NPR investigation later found evidence the dissident was linked to con which included the specter of bomb threats.\n",
            "Source: NPR\n",
            "URL: https://www.npr.org/2025/01/11/nx-s1-5232204/dutch-reporter-bomb-threats\n"
          ]
        }
      ]
    }
  ]
}